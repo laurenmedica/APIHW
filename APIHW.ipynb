{
 "cells": [
  {
   "cell_type": "code",
   "execution_count": 9,
   "id": "772d6597-70ee-405f-bb7e-f5f4f6ad4182",
   "metadata": {},
   "outputs": [
    {
     "name": "stdin",
     "output_type": "stream",
     "text": [
      "Enter stock ticker symbol:  msft\n"
     ]
    },
    {
     "name": "stdout",
     "output_type": "stream",
     "text": [
      "The ticker symbol is: MSFT\n",
      "API request successful!\n",
      "Stock Details:\n",
      "Stock Ticker: MSFT\n",
      "Stock Full Name: Microsoft Corporation\n",
      "Current Price: 428.02\n",
      "High of 52 Weeks: 431.83\n",
      "Low of 52 Weeks: 427.47\n",
      "Top Trending Stocks:\n",
      "AMSC\n",
      "PWR\n",
      "SNAP\n",
      "VRT\n",
      "SOL-USD\n",
      "Data has been saved to stock_data_summary.csv\n"
     ]
    }
   ],
   "source": [
    "import requests\n",
    "import json\n",
    "import pandas as pd\n",
    "\n",
    "ticker = input('Enter stock ticker symbol: ').upper()\n",
    "\n",
    "print('The ticker symbol is: ' + ticker)\n",
    "\n",
    "apikey = \"vVjBP4He3EB8vJ7gDjOk1zw2BP4ZpYk3Ad6QluFi\"\n",
    "\n",
    "url = f'https://yfapi.net/v8/finance/chart/{ticker}'\n",
    "\n",
    "headers = {'X-API-KEY': apikey}\n",
    "\n",
    "try:\n",
    "    response = requests.get(url, headers=headers)\n",
    "    response.raise_for_status()  \n",
    "\n",
    "    print(\"API request successful!\")\n",
    "    \n",
    "    stock_details = {\n",
    "        'Stock Ticker': data['chart']['result'][0][\"meta\"][\"symbol\"],\n",
    "        'Stock Full Name': data['chart']['result'][0][\"meta\"][\"longName\"],\n",
    "        'Current Price': data['chart']['result'][0][\"meta\"][\"regularMarketPrice\"],\n",
    "        'High of 52 Weeks': data['chart']['result'][0][\"meta\"][\"fiftyTwoWeekHigh\"],\n",
    "        'Low of 52 Weeks': data['chart']['result'][0][\"meta\"][\"fiftyTwoWeekLow\"]\n",
    "    }\n",
    "    \n",
    "    print(\"Stock Details:\")\n",
    "    for key, value in stock_details.items():\n",
    "        print(f\"{key}: {value}\")\n",
    "\n",
    "except requests.exceptions.HTTPError as http_err:\n",
    "    print(f\"HTTP error occurred: {http_err}\")\n",
    "except requests.exceptions.RequestException as err:\n",
    "    print(f\"Error occurred: {err}\")\n",
    "except KeyError:\n",
    "    print(\"Data format has changed or stock data unavailable.\")\n",
    "    stock_details = {}\n",
    "\n",
    "\n",
    "trending_url = 'https://yfapi.net/v1/finance/trending/US'\n",
    "top_trending_stocks = []\n",
    "\n",
    "try:\n",
    "    trending_response = requests.get(trending_url, headers=headers)\n",
    "    trending_response.raise_for_status()\n",
    "    trending_data = trending_response.json()\n",
    "\n",
    "    if 'finance' in trending_data and 'result' in trending_data['finance']:\n",
    "        top_trending_stocks = trending_data['finance']['result'][0]['quotes'][:5]  \n",
    "\n",
    "        print(\"Top Trending Stocks:\")\n",
    "        for trending_stock in top_trending_stocks:\n",
    "            print(f\"{trending_stock['symbol']}\")\n",
    "    else:\n",
    "        print(\"No trending stocks found or the response is not as expected.\")\n",
    "\n",
    "except requests.exceptions.HTTPError as http_err:\n",
    "    print(f\"HTTP error occurred: {http_err}\")\n",
    "except requests.exceptions.RequestException as err:\n",
    "    print(f\"Error occurred: {err}\")\n",
    "except Exception as e:\n",
    "    print(f\"An unexpected error occurred: {e}\")\n",
    "\n",
    "\n",
    "top_trending_stocks_info = []\n",
    "for trending_stock in top_trending_stocks:\n",
    "    trending_info = {\n",
    "        'Trending Ticker': trending_stock['symbol']\n",
    "    }\n",
    "    top_trending_stocks_info.append(trending_info)\n",
    "\n",
    "\n",
    "all_stock_data = top_trending_stocks_info + [stock_details]\n",
    "combined_df = pd.DataFrame(all_stock_data)\n",
    "\n",
    "\n",
    "combined_df.to_csv('stock_data_summary.csv', index=False)\n",
    "print(\"Data has been saved to stock_data_summary.csv\")\n"
   ]
  },
  {
   "cell_type": "code",
   "execution_count": null,
   "id": "06d43068-791f-4fb5-b1d7-dd49abf2006a",
   "metadata": {},
   "outputs": [],
   "source": []
  },
  {
   "cell_type": "code",
   "execution_count": null,
   "id": "23116d44-34cf-4333-8fe3-63762b47b9cd",
   "metadata": {},
   "outputs": [],
   "source": []
  }
 ],
 "metadata": {
  "kernelspec": {
   "display_name": "anaconda-panel-2023.05-py310",
   "language": "python",
   "name": "conda-env-anaconda-panel-2023.05-py310-py"
  },
  "language_info": {
   "codemirror_mode": {
    "name": "ipython",
    "version": 3
   },
   "file_extension": ".py",
   "mimetype": "text/x-python",
   "name": "python",
   "nbconvert_exporter": "python",
   "pygments_lexer": "ipython3",
   "version": "3.11.5"
  }
 },
 "nbformat": 4,
 "nbformat_minor": 5
}
